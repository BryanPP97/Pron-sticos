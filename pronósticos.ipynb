{
  "nbformat": 4,
  "nbformat_minor": 0,
  "metadata": {
    "colab": {
      "name": "Copia de pronósticos.ipynb",
      "provenance": [],
      "authorship_tag": "ABX9TyM9eAUXlDV62MM2djnrur1A",
      "include_colab_link": true
    },
    "kernelspec": {
      "name": "python3",
      "display_name": "Python 3"
    },
    "language_info": {
      "name": "python"
    }
  },
  "cells": [
    {
      "cell_type": "markdown",
      "metadata": {
        "id": "view-in-github",
        "colab_type": "text"
      },
      "source": [
        "<a href=\"https://colab.research.google.com/github/BryanPP97/Pronosticos/blob/main/pron%C3%B3sticos.ipynb\" target=\"_parent\"><img src=\"https://colab.research.google.com/assets/colab-badge.svg\" alt=\"Open In Colab\"/></a>"
      ]
    },
    {
      "cell_type": "code",
      "metadata": {
        "id": "3_WpK0g7bugQ"
      },
      "source": [
        "# Importamos librerías necesarias\n",
        "import warnings\n",
        "warnings.filterwarnings('ignore')\n",
        "\n",
        "import pandas as pd\n",
        "import numpy as np\n",
        "import matplotlib.pyplot as plt\n",
        "import matplotlib.gridspec as gridspec\n",
        "import seaborn as sns\n",
        "from pandas.api.types import is_numeric_dtype"
      ],
      "execution_count": null,
      "outputs": []
    },
    {
      "cell_type": "code",
      "metadata": {
        "id": "JNFUATUUcAJ0"
      },
      "source": [
        "# Cargamos archivo\n",
        "df = pd.read_excel('aquñi va el archivo.xlsx')\n",
        "\n",
        "# Convertimos las columnas a lowercase\n",
        "df.columns = df.columns.str.lower()\n",
        "\n",
        "# Imprimimos el nombre de las columnas    \n",
        "df.columns"
      ],
      "execution_count": null,
      "outputs": []
    },
    {
      "cell_type": "code",
      "metadata": {
        "id": "IkgdWmPNfJRe"
      },
      "source": [
        "Index(['nombre', 'puebla', 'chivas', 'tijuana', 'pumas', 'mazatlan', 'necaxa',\n",
        "       'atlas', 'rayados', 'tigres', 'leon', 'america', 'san luis', 'toluca',\n",
        "       'queretaro', 'santos', 'cruz azul', 'pachuca', 'juarez'],\n",
        "      dtype='object')"
      ],
      "execution_count": null,
      "outputs": []
    },
    {
      "cell_type": "code",
      "metadata": {
        "id": "k8P93DphfjAl"
      },
      "source": [
        "# Creamos columnas con resultados concatenados\n",
        "for i in range(1, len(df.columns[:19]), 2):\n",
        "    equipo_local = df.columns[i]\n",
        "    equipo_visitante = df.columns[i+1]\n",
        "    \n",
        "    # Placeholder del partido\n",
        "    nombre_de_partido = equipo_local + '-' + equipo_visitante\n",
        "    \n",
        "    # Sumatoria de goles\n",
        "    sumatoria = df[equipo_local] + df[equipo_visitante]\n",
        "    condiciones_de_sumatoria = [\n",
        "        (sumatoria > 2.5),\n",
        "        (sumatoria < 2.5)\n",
        "    ]\n",
        "    valores_de_condiciones_de_sumatoria = ['bajas', 'altas']\n",
        "    \n",
        "    # Resultado del partido\n",
        "    condiciones_de_resultado = [\n",
        "        (df[equipo_local] > df[equipo_visitante]),\n",
        "        (df[equipo_local] < df[equipo_visitante]),\n",
        "        (df[equipo_local] == df[equipo_visitante])\n",
        "    ]\n",
        "    valores_de_condiciones_de_resultado = ['local', 'visita', 'empate']\n",
        "    \n",
        "    # Creamos el tipo de resultado \n",
        "    df[nombre_de_partido + '_resultado'] = np.select(condiciones_de_resultado, valores_de_condiciones_de_resultado)\n",
        "    \n",
        "    # Creamos el resultado\n",
        "    df[nombre_de_partido + '_exacto'] = df[equipo_local].astype(str) + '-' + df[equipo_visitante].astype(str)\n",
        "    \n",
        "    # Sumatoria de resultado\n",
        "    df[nombre_de_partido + '_altas-bajas'] = np.select(condiciones_de_sumatoria, valores_de_condiciones_de_sumatoria)"
      ],
      "execution_count": null,
      "outputs": []
    },
    {
      "cell_type": "code",
      "metadata": {
        "id": "5711FlDffneg"
      },
      "source": [
        "columns = df.columns[1:19]\n",
        "for i in range(0, len(columns), 2):\n",
        "    local = columns[i]\n",
        "    visita = columns[i+1]\n",
        "    \n",
        "    titulo = 8 + len(local) + len(visita)\n",
        "    print('*' * titulo)\n",
        "    print(f'* {local} vs {visita} *')\n",
        "    print('*' * titulo)\n",
        "    \n",
        "    local_df = df[[local, visita]]\n",
        "    \n",
        "    # Sumatoria de goles\n",
        "    sumatoria = local_df[local] + local_df[visita]\n",
        "    condiciones_de_sumatoria = [\n",
        "        (sumatoria > 2.5),\n",
        "        (sumatoria < 2.5)\n",
        "    ]\n",
        "    valores_de_condiciones_de_sumatoria = ['bajas', 'altas']\n",
        "    \n",
        "    # Resultado del partido\n",
        "    condiciones_de_resultado = [\n",
        "        (local_df[local] > local_df[visita]),\n",
        "        (local_df[local] < local_df[visita]),\n",
        "        (local_df[local] == local_df[visita])\n",
        "    ]\n",
        "    valores_de_condiciones_de_resultado = ['local', 'visita', 'empate']\n",
        "    \n",
        "    # Creamos el tipo de resultado \n",
        "    local_df['resultado'] = np.select(condiciones_de_resultado, valores_de_condiciones_de_resultado)\n",
        "    \n",
        "    # Creamos el resultado\n",
        "    local_df['marcador'] = local_df[local].astype(str) + '-' + local_df[visita].astype(str)\n",
        "    \n",
        "    # Sumatoria de resultado\n",
        "    local_df['linea'] = np.select(condiciones_de_sumatoria, valores_de_condiciones_de_sumatoria)\n",
        "\n",
        "    fig = plt.figure(figsize=(20, 4))\n",
        "    fig.subplots_adjust(hspace=0.4, wspace=0.4)\n",
        "    \n",
        "    data_local = local_df[local].value_counts().sort_index()  \n",
        "    data_visita = local_df[visita].value_counts().sort_index()\n",
        "    data_resultado = local_df['resultado'].value_counts().sort_index()\n",
        "    data_marcador = local_df['marcador'].value_counts().sort_index()\n",
        "    data_linea = local_df['linea'].value_counts().sort_index()\n",
        "    \n",
        "    ax = fig.add_subplot(1, 4, 1)\n",
        "    sns.barplot(data_local.index, data_local.values, alpha=0.8, ax=ax)\n",
        "    plt.title(f'Goles: {local}')\n",
        "    \n",
        "    ax = fig.add_subplot(1, 4, 2)\n",
        "    sns.barplot(data_visita.index, data_visita.values, alpha=0.8, ax=ax)\n",
        "    plt.title(f'Goles: {visita}')\n",
        "    \n",
        "    ax = fig.add_subplot(1, 4, 3)\n",
        "    sns.barplot(data_resultado.index, data_resultado.values, alpha=0.8, ax=ax)\n",
        "    plt.title(f'Resultado')\n",
        "    \n",
        "    ax = fig.add_subplot(1, 4, 4)\n",
        "    sns.barplot(data_linea.index, data_linea.values, alpha=0.8, ax=ax)\n",
        "    plt.title(f'Linea 2.5')\n",
        "    \n",
        "    fig = plt.figure(figsize=(40, 10))\n",
        "    ax = fig.add_subplot(2, 2, 1)\n",
        "    sns.barplot(data_marcador.index, data_marcador.values, alpha=0.8, ax=ax)\n",
        "    plt.title(f'Marcador')\n",
        "\n",
        "    plt.show()"
      ],
      "execution_count": null,
      "outputs": []
    }
  ]
}