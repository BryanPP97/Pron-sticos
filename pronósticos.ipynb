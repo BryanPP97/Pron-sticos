{
  "nbformat": 4,
  "nbformat_minor": 0,
  "metadata": {
    "colab": {
      "name": "pronósticos.ipynb",
      "provenance": [],
      "authorship_tag": "ABX9TyM7w4zUlKKPjRCuJA89lFUB",
      "include_colab_link": true
    },
    "kernelspec": {
      "name": "python3",
      "display_name": "Python 3"
    },
    "language_info": {
      "name": "python"
    }
  },
  "cells": [
    {
      "cell_type": "markdown",
      "metadata": {
        "id": "view-in-github",
        "colab_type": "text"
      },
      "source": [
        "<a href=\"https://colab.research.google.com/github/BryanPP97/Pronosticos/blob/main/pron%C3%B3sticos.ipynb\" target=\"_parent\"><img src=\"https://colab.research.google.com/assets/colab-badge.svg\" alt=\"Open In Colab\"/></a>"
      ]
    },
    {
      "cell_type": "code",
      "metadata": {
        "id": "3_WpK0g7bugQ"
      },
      "source": [
        "# Importamos librerías necesarias\n",
        "import warnings\n",
        "warnings.filterwarnings('ignore')\n",
        "\n",
        "import pandas as pd\n",
        "import numpy as np\n",
        "import matplotlib.pyplot as plt\n",
        "import matplotlib.gridspec as gridspec\n",
        "import seaborn as sns\n",
        "from pandas.api.types import is_numeric_dtype"
      ],
      "execution_count": null,
      "outputs": []
    },
    {
      "cell_type": "code",
      "metadata": {
        "id": "JNFUATUUcAJ0"
      },
      "source": [
        "# Cargamos archivo\n",
        "df = pd.read_excel('aquñi va el archivo.xlsx')\n",
        "\n",
        "# Convertimos las columnas a lowercase\n",
        "df.columns = df.columns.str.lower()\n",
        "\n",
        "# Imprimimos el nombre de las columnas    \n",
        "df.columns"
      ],
      "execution_count": null,
      "outputs": []
    }
  ]
}